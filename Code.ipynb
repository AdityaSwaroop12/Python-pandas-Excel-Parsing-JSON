{
 "cells": [
  {
   "cell_type": "code",
   "execution_count": 8,
   "metadata": {},
   "outputs": [],
   "source": [
    "'''This file has been created by Aditya Swaroop (2024A1PS0253P)using Advanced python Pandas, json file extraction.\n",
    "Some of the packages/module used are pandas, json, xlrd, openpyxl, jupyter notebook. \n",
    "Every line is explained in the comments for the ease to go through the code'''\n",
    "import pandas as pd \n",
    "import json"
   ]
  },
  {
   "cell_type": "code",
   "execution_count": 9,
   "metadata": {},
   "outputs": [],
   "source": [
    "workbook = pd.ExcelFile('BITS_Excel.xlsx') # to read the excel file named BITS_Excel"
   ]
  },
  {
   "cell_type": "code",
   "execution_count": 10,
   "metadata": {},
   "outputs": [],
   "source": [
    "sheet = {} # empty dictionary to store all the datas"
   ]
  },
  {
   "cell_type": "code",
   "execution_count": 11,
   "metadata": {},
   "outputs": [
    {
     "name": "stdout",
     "output_type": "stream",
     "text": [
      "JSON file generated successfully!\n",
      "Thank You !\n",
      "By - Aditya Swaroop\n"
     ]
    }
   ],
   "source": [
    "for sheet_name in workbook.sheet_names: # going through each and every sheet of the excel\n",
    "    df = workbook.parse(sheet_name) # convert excel file to dataframe\n",
    "\n",
    "    course_data = {\n",
    "        \"Sheet Name\" : sheet_name,\n",
    "        \"course_code\" : None, # initializes it to none\n",
    "        \"course_title\" : None,\n",
    "        \"credits\" : {\n",
    "           \"lecture\" : df.iloc[1,3], # used to locate and print the element in part. row & column index \n",
    "           \"practical\" : df.iloc[1,4],\n",
    "           \"units\" : df.iloc[1,5]\n",
    "        },\n",
    "        \"sections\" : [] # empty list to store the sub-parts under section\n",
    "    }\n",
    "    last_section = None\n",
    "\n",
    "    for index,row in df.iterrows(): # iterates through each rows and indexes for a part. sheet\n",
    "\n",
    "        section_type = row.get(\"Section-Type\") # gets the element under the heading \"Section_type\"\n",
    "        section_number = row.get(\"SEC\")\n",
    "        instructors = row.get(\"INSTRUCTOR-IN-CHARGE\")\n",
    "        room = row.get(\"ROOM\")\n",
    "        course_code = row.get(\"COURSE NO.\")\n",
    "        course_title = row.get(\"COURSE TITLE\")\n",
    "        days_and_slot = row.get(\"DAYS & HOURS\")\n",
    "\n",
    "        if pd.notna(room) and pd.notna(section_type) and pd.notna(section_number): # iterates only when these values are not valid/empty\n",
    "\n",
    "            if pd.notna(course_title) and pd.notna(course_code) and course_data[\"course_code\"] is None and course_data[\"course_title\"] is None:\n",
    "                course_data[\"course_code\"] = course_code # updates course code key in the course_data dict\n",
    "                course_data[\"course_title\"] = course_title\n",
    "\n",
    "            if pd.notna(days_and_slot):\n",
    "                parts = days_and_slot.split(\"  \") # splits the string about \"  \"\n",
    "                days = parts[:-1]  # prints all parts other than the last which is the slot\n",
    "                slot = [parts[-1]]\n",
    "\n",
    "            section_info = {\n",
    "                \"section_type\": section_type,\n",
    "                \"section_number\": section_number,\n",
    "                \"room\": room,\n",
    "                \"instructors\": [instructors] if instructors else [],\n",
    "                \"days\" : days,\n",
    "                \"slot\" : slot\n",
    "            }\n",
    "            course_data[\"sections\"].append(section_info) # appends course_data with section_info dict.\n",
    "            last_section = section_info # updates last_section input\n",
    "        elif pd.notna(instructors) and last_section:\n",
    "            # If only an instructor is provided, add to the last section\n",
    "            if instructors not in last_section[\"instructors\"]:\n",
    "                last_section[\"instructors\"].append(instructors)\n",
    "    sheet[sheet_name] = course_data # finally updates the sheet dict. with all datas/values\n",
    "\n",
    "# Convert the dictionary to JSON format and save it to a file\n",
    "with open('timetable.json', 'w') as file: # opens the file named 'timetable.json' in write mode\n",
    "    json.dump(sheet, file, indent=4) # indentation for better readablity\n",
    "\n",
    "print(\"JSON file generated successfully!\")\n",
    "print(\"Thank You !\")\n",
    "print(\"By - Aditya Swaroop\")"
   ]
  }
 ],
 "metadata": {
  "kernelspec": {
   "display_name": "Python 3",
   "language": "python",
   "name": "python3"
  },
  "language_info": {
   "codemirror_mode": {
    "name": "ipython",
    "version": 3
   },
   "file_extension": ".py",
   "mimetype": "text/x-python",
   "name": "python",
   "nbconvert_exporter": "python",
   "pygments_lexer": "ipython3",
   "version": "3.12.3"
  }
 },
 "nbformat": 4,
 "nbformat_minor": 2
}
